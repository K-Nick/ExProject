{
 "cells": [
  {
   "cell_type": "markdown",
   "metadata": {
    "_cell_guid": "462bae26-dc0e-40e0-8243-5bcad85efef2",
    "_uuid": "cc86db85b4c84538f04731bf8d9f9d4bb8fcbb96"
   },
   "source": [
    "# DATA SCIENTIST\n",
    "**In this tutorial, I only explain you what you need to be a data scientist neither more nor less.**\n",
    "\n",
    "Data scientist need to have these skills:\n",
    "\n",
    "1. Basic Tools: Like python, R or SQL. You do not need to know everything. What you only need is to learn how to use **python**\n",
    "1. Basic Statistics: Like mean, median or standart deviation. If you know basic statistics, you can use **python** easily. \n",
    "1. Data Munging: Working with messy and difficult data. Like a inconsistent date and string formatting. As you guess, **python** helps us.\n",
    "1. Data Visualization: Title is actually explanatory. We will visualize the data with **python** like matplot and seaborn libraries.\n",
    "1. Machine Learning: You do not need to understand math behind the machine learning technique. You only need is understanding basics of machine learning and learning how to implement it while using **python**.\n",
    "\n",
    "### As a summary we will learn python to be data scientist !!!\n",
    "\n",
    "**Content:**\n",
    "1. Introduction to Python:\n",
    "    1. Matplotlib\n",
    "    1. Dictionaries \n",
    "    1. Pandas\n",
    "    1. Logic, control flow and filtering\n",
    "    1. Loop data structures\n",
    "1. Python Data Science Toolbox:\n",
    "    1. User defined function \n",
    "    1. Scope\n",
    "    1. Nested function\n",
    "    1. Default and flexible arguments\n",
    "    1. Lambda function\n",
    "    1. Anonymous function\n",
    "    1. Iterators\n",
    "    1. List comprehension\n",
    "1. Cleaning Data\n",
    "    1. Diagnose data for cleaning\n",
    "    1. Explotary data analysis\n",
    "    1. Visual exploratory data analysis\n",
    "    1. Tidy data\n",
    "    1. Pivoting data\n",
    "    1. Concatenating data\n",
    "    1. Data types\n",
    "    1. Missing data and testing with assert\n",
    "1. Pandas Foundation\n",
    "    1. Review of pandas\n",
    "    1. Building data frames from scratch\n",
    "    1. Visual exploratory data analysis\n",
    "    1. Statistical explatory data analysis\n",
    "    1. Indexing pandas time series\n",
    "    1. Resampling pandas time series\n",
    "1. Manipulating Data Frames with Pandas\n",
    "    1. Indexing data frames\n",
    "    1. Slicing data frames\n",
    "    1. Filtering data frames\n",
    "    1. Transforming data frames\n",
    "    1. Index objects and labeled data\n",
    "    1. Hierarchical indexing\n",
    "    1. Pivoting data frames\n",
    "    1. Stacking and unstacking data frames\n",
    "    1. Melting data frames\n",
    "    1. Categoricals and groupby\n",
    "1. Data Visualization\n",
    "    1. Seaborn: https://www.kaggle.com/kanncaa1/seaborn-for-beginners\n",
    "    1. Bokeh: https://www.kaggle.com/kanncaa1/interactive-bokeh-tutorial-part-1\n",
    "    1. Bokeh: https://www.kaggle.com/kanncaa1/interactive-bokeh-tutorial-part-2\n",
    "1. Machine Learning\n",
    "    1. https://www.kaggle.com/kanncaa1/machine-learning-tutorial-for-beginners/"
   ]
  },
  {
   "cell_type": "code",
   "execution_count": 2,
   "metadata": {
    "_cell_guid": "5be66754-dde6-4ae2-87cf-fa317d7cc89d",
    "_uuid": "a2598943534154160c50f07d275ba9e8d0b287a5"
   },
   "outputs": [],
   "source": [
    "# This Python 3 environment comes with many helpful analytics libraries installed\n",
    "# It is defined by the kaggle/python docker image: https://github.com/kaggle/docker-python\n",
    "# For example, here's several helpful packages to load in \n",
    "\n",
    "import numpy as np # linear algebra\n",
    "import pandas as pd # data processing, CSV file I/O (e.g. pd.read_csv)\n",
    "import matplotlib.pyplot as plt\n",
    "import seaborn as sns\n",
    "%matplotlib inline\n",
    "# Input data files are available in the \"../input/\" directory.\n",
    "# For example, running this (by clicking run or pressing Shift+Enter) will list the files in the input directory\n",
    "\n",
    "\n",
    "# Any results you write to the current directory are saved as output."
   ]
  },
  {
   "cell_type": "code",
   "execution_count": 4,
   "metadata": {
    "_cell_guid": "b95f584a-7968-4ce8-97fc-a4453bacbd85",
    "_uuid": "a0d215899e2773621ffae09b02137a05e581cf5c"
   },
   "outputs": [],
   "source": [
    "data = pd.read_csv('./input/pokemon.csv')"
   ]
  },
  {
   "cell_type": "code",
   "execution_count": 8,
   "metadata": {
    "_cell_guid": "6f4f5b45-a82b-429c-9048-573d31a46b90",
    "_uuid": "670e239225bc62c643c58aaf05ed2152299ed866"
   },
   "outputs": [
    {
     "name": "stdout",
     "output_type": "stream",
     "text": [
      "<class 'pandas.core.frame.DataFrame'>\n",
      "RangeIndex: 800 entries, 0 to 799\n",
      "Data columns (total 12 columns):\n",
      "#             800 non-null int64\n",
      "Name          799 non-null object\n",
      "Type 1        800 non-null object\n",
      "Type 2        414 non-null object\n",
      "HP            800 non-null int64\n",
      "Attack        800 non-null int64\n",
      "Defense       800 non-null int64\n",
      "Sp. Atk       800 non-null int64\n",
      "Sp. Def       800 non-null int64\n",
      "Speed         800 non-null int64\n",
      "Generation    800 non-null int64\n",
      "Legendary     800 non-null bool\n",
      "dtypes: bool(1), int64(8), object(3)\n",
      "memory usage: 69.6+ KB\n"
     ]
    },
    {
     "data": {
      "text/html": [
       "<div>\n",
       "<style>\n",
       "    .dataframe thead tr:only-child th {\n",
       "        text-align: right;\n",
       "    }\n",
       "\n",
       "    .dataframe thead th {\n",
       "        text-align: left;\n",
       "    }\n",
       "\n",
       "    .dataframe tbody tr th {\n",
       "        vertical-align: top;\n",
       "    }\n",
       "</style>\n",
       "<table border=\"1\" class=\"dataframe\">\n",
       "  <thead>\n",
       "    <tr style=\"text-align: right;\">\n",
       "      <th></th>\n",
       "      <th>#</th>\n",
       "      <th>Name</th>\n",
       "      <th>Type 1</th>\n",
       "      <th>Type 2</th>\n",
       "      <th>HP</th>\n",
       "      <th>Attack</th>\n",
       "      <th>Defense</th>\n",
       "      <th>Sp. Atk</th>\n",
       "      <th>Sp. Def</th>\n",
       "      <th>Speed</th>\n",
       "      <th>Generation</th>\n",
       "      <th>Legendary</th>\n",
       "    </tr>\n",
       "  </thead>\n",
       "  <tbody>\n",
       "    <tr>\n",
       "      <th>0</th>\n",
       "      <td>1</td>\n",
       "      <td>Bulbasaur</td>\n",
       "      <td>Grass</td>\n",
       "      <td>Poison</td>\n",
       "      <td>45</td>\n",
       "      <td>49</td>\n",
       "      <td>49</td>\n",
       "      <td>65</td>\n",
       "      <td>65</td>\n",
       "      <td>45</td>\n",
       "      <td>1</td>\n",
       "      <td>False</td>\n",
       "    </tr>\n",
       "    <tr>\n",
       "      <th>1</th>\n",
       "      <td>2</td>\n",
       "      <td>Ivysaur</td>\n",
       "      <td>Grass</td>\n",
       "      <td>Poison</td>\n",
       "      <td>60</td>\n",
       "      <td>62</td>\n",
       "      <td>63</td>\n",
       "      <td>80</td>\n",
       "      <td>80</td>\n",
       "      <td>60</td>\n",
       "      <td>1</td>\n",
       "      <td>False</td>\n",
       "    </tr>\n",
       "    <tr>\n",
       "      <th>2</th>\n",
       "      <td>3</td>\n",
       "      <td>Venusaur</td>\n",
       "      <td>Grass</td>\n",
       "      <td>Poison</td>\n",
       "      <td>80</td>\n",
       "      <td>82</td>\n",
       "      <td>83</td>\n",
       "      <td>100</td>\n",
       "      <td>100</td>\n",
       "      <td>80</td>\n",
       "      <td>1</td>\n",
       "      <td>False</td>\n",
       "    </tr>\n",
       "    <tr>\n",
       "      <th>3</th>\n",
       "      <td>4</td>\n",
       "      <td>Mega Venusaur</td>\n",
       "      <td>Grass</td>\n",
       "      <td>Poison</td>\n",
       "      <td>80</td>\n",
       "      <td>100</td>\n",
       "      <td>123</td>\n",
       "      <td>122</td>\n",
       "      <td>120</td>\n",
       "      <td>80</td>\n",
       "      <td>1</td>\n",
       "      <td>False</td>\n",
       "    </tr>\n",
       "    <tr>\n",
       "      <th>4</th>\n",
       "      <td>5</td>\n",
       "      <td>Charmander</td>\n",
       "      <td>Fire</td>\n",
       "      <td>NaN</td>\n",
       "      <td>39</td>\n",
       "      <td>52</td>\n",
       "      <td>43</td>\n",
       "      <td>60</td>\n",
       "      <td>50</td>\n",
       "      <td>65</td>\n",
       "      <td>1</td>\n",
       "      <td>False</td>\n",
       "    </tr>\n",
       "  </tbody>\n",
       "</table>\n",
       "</div>"
      ],
      "text/plain": [
       "   #           Name Type 1  Type 2  HP  Attack  Defense  Sp. Atk  Sp. Def  \\\n",
       "0  1      Bulbasaur  Grass  Poison  45      49       49       65       65   \n",
       "1  2        Ivysaur  Grass  Poison  60      62       63       80       80   \n",
       "2  3       Venusaur  Grass  Poison  80      82       83      100      100   \n",
       "3  4  Mega Venusaur  Grass  Poison  80     100      123      122      120   \n",
       "4  5     Charmander   Fire     NaN  39      52       43       60       50   \n",
       "\n",
       "   Speed  Generation  Legendary  \n",
       "0     45           1      False  \n",
       "1     60           1      False  \n",
       "2     80           1      False  \n",
       "3     80           1      False  \n",
       "4     65           1      False  "
      ]
     },
     "execution_count": 8,
     "metadata": {},
     "output_type": "execute_result"
    }
   ],
   "source": [
    "data.info()\n",
    "data.head()"
   ]
  },
  {
   "cell_type": "code",
   "execution_count": 6,
   "metadata": {
    "_cell_guid": "591d89f3-650a-4fbf-a0ee-c6eff56d7244",
    "_uuid": "130b314fedb5266580824dd8d7d326b215fc951e"
   },
   "outputs": [
    {
     "data": {
      "text/plain": [
       "<matplotlib.axes._subplots.AxesSubplot at 0x21cb87b6048>"
      ]
     },
     "execution_count": 6,
     "metadata": {},
     "output_type": "execute_result"
    },
    {
     "data": {
      "image/png": "[encoded data removed]",
      "text/plain": [
       "<matplotlib.figure.Figure at 0x21cb8794940>"
      ]
     },
     "metadata": {},
     "output_type": "display_data"
    }
   ],
   "source": [
    "#correlation map\n",
    "f,ax = plt.subplots(figsize=(18, 18))\n",
    "sns.heatmap(data.corr(), annot=True, linewidths=.5, fmt= '.1f',ax=ax)"
   ]
  },
  {
   "cell_type": "code",
   "execution_count": null,
   "metadata": {
    "_cell_guid": "24c409ea-b8dc-4ed4-b5e1-da317255b014",
    "_uuid": "469700ec5671d7c2a3d56d9504ef6bebcf0d4869",
    "collapsed": true
   },
   "outputs": [],
   "source": [
    "data.head(10)"
   ]
  },
  {
   "cell_type": "code",
   "execution_count": null,
   "metadata": {
    "_cell_guid": "d4e1fd25-1453-4c23-98d9-c84783f925bf",
    "_uuid": "b3623d5a5ba94e61e84458348ac33f0c7cf64659",
    "collapsed": true
   },
   "outputs": [],
   "source": [
    "data.info()"
   ]
  },
  {
   "cell_type": "code",
   "execution_count": null,
   "metadata": {
    "_cell_guid": "a1e23ca9-f572-4988-a34d-cb2d9d99ed1b",
    "_uuid": "f52e8dcb6b33c0b424690b0bb4c4230b9bbaa3dd",
    "collapsed": true
   },
   "outputs": [],
   "source": [
    "data.columns"
   ]
  },
  {
   "cell_type": "markdown",
   "metadata": {
    "_cell_guid": "979f5e3d-5460-4b34-81b2-b0dbea0dc1bc",
    "_uuid": "cd298bcb292e631434664a8519176189f0f8e9fa"
   },
   "source": [
    "# 1. INTRODUCTION TO PYTHON"
   ]
  },
  {
   "cell_type": "markdown",
   "metadata": {
    "_cell_guid": "f8cb1163-a0d7-4ac8-ab55-a44e44fe03ec",
    "_uuid": "7e085789db5a003ce5c448c7246a07a0a42b1cff"
   },
   "source": [
    "### MATPLOTLIB\n",
    "Matplot is a python library that help us to plot data. The easiest and basic plots are line, scatter and histogram plots.\n",
    "* Line plot is better when x axis is time.\n",
    "* Scatter is better when there is correlation between two variables\n",
    "* Histogram is better when we need to see distribution of numerical data.\n",
    "* Customization: Colors,labels,thickness of line, title, opacity, grid, figsize, ticks of axis and linestyle  "
   ]
  },
  {
   "cell_type": "code",
   "execution_count": null,
   "metadata": {
    "_cell_guid": "187608a9-21ff-4f29-b866-f6d3c046c774",
    "_uuid": "23b40c9685022b5c08d255cdfd41e9ec6d3f0a49",
    "collapsed": true
   },
   "outputs": [],
   "source": [
    "# Line Plot\n",
    "# color = color, label = label, linewidth = width of line, alpha = opacity, grid = grid, linestyle = sytle of line\n",
    "data.Speed.plot(kind = 'line', color = 'g',label = 'Speed',linewidth=1,alpha = 0.5,grid = True,linestyle = ':')\n",
    "data.Defense.plot(color = 'r',label = 'Defense',linewidth=1, alpha = 0.5,grid = True,linestyle = '-.')\n",
    "plt.legend(loc='upper right')     # legend = puts label into plot\n",
    "plt.xlabel('x axis')              # label = name of label\n",
    "plt.ylabel('y axis')\n",
    "plt.title('Line Plot')            # title = title of plot"
   ]
  },
  {
   "cell_type": "code",
   "execution_count": null,
   "metadata": {
    "_cell_guid": "0a60d9c4-bf3b-4c13-9cbf-c6e759824d36",
    "_uuid": "6fbb6171d8a0d7e228fd380d1b86c02cc0682873",
    "collapsed": true
   },
   "outputs": [],
   "source": [
    "# Scatter Plot \n",
    "# x = attack, y = defense\n",
    "data.plot(kind='scatter', x='Attack', y='Defense',alpha = 0.5,color = 'red')\n",
    "plt.xlabel('Attack')              # label = name of label\n",
    "plt.ylabel('Defence')\n",
    "plt.title('Attack Defense Scatter Plot')            # title = title of plot"
   ]
  },
  {
   "cell_type": "code",
   "execution_count": null,
   "metadata": {
    "_cell_guid": "412c1288-0384-4f86-b137-3a02f47bf538",
    "_uuid": "d69973d1928e9b4d24966525d83da9bddf9d9d9f",
    "collapsed": true
   },
   "outputs": [],
   "source": [
    "# Histogram\n",
    "# bins = number of bar in figure\n",
    "data.Speed.plot(kind = 'hist',bins = 50,figsize = (15,15))"
   ]
  },
  {
   "cell_type": "code",
   "execution_count": null,
   "metadata": {
    "_cell_guid": "40aa131c-2144-4f21-a8b6-64272dcbd5ba",
    "_uuid": "1c7e526be074992e2ac541be7ebcca444771bd4a",
    "collapsed": true
   },
   "outputs": [],
   "source": [
    "# clf() = cleans it up again you can start a fresh\n",
    "data.Speed.plot(kind = 'hist',bins = 50)\n",
    "plt.clf()\n",
    "# We cannot see plot due to clf()"
   ]
  },
  {
   "cell_type": "markdown",
   "metadata": {
    "_cell_guid": "90ac9db1-b3ab-4f5c-bd59-40d4d8ab24cb",
    "_uuid": "58490ca9aa6a4d4890ad263b7a8da438a074475e",
    "collapsed": true
   },
   "source": [
    "### DICTIONARY\n",
    "Why we need dictionary?\n",
    "* It has 'key' and 'value'\n",
    "* Faster than lists\n",
    "<br>\n",
    "What is key and value. Example:\n",
    "* dictionary = {'spain' : 'madrid'}\n",
    "* Key is spain.\n",
    "* Values is madrid.\n",
    "<br>\n",
    "<br>**It's that easy.**\n",
    "<br>Lets practice some other properties like keys(), values(), update, add, check, remove key, remove all entries and remove dicrionary."
   ]
  },
  {
   "cell_type": "code",
   "execution_count": null,
   "metadata": {
    "_cell_guid": "a2294c36-2b0e-4e84-bb4c-3ed58a8d7c6b",
    "_uuid": "c06906f515397db73027b5ec33054669e15a46b9",
    "collapsed": true
   },
   "outputs": [],
   "source": [
    "#create dictionary and look its keys and values\n",
    "dictionary = {'spain' : 'madrid','usa' : 'vegas'}\n",
    "print(dictionary.keys())\n",
    "print(dictionary.values())"
   ]
  },
  {
   "cell_type": "code",
   "execution_count": null,
   "metadata": {
    "_cell_guid": "54407176-0923-415f-926e-fb8d34afd615",
    "_uuid": "eba173f97bd538a285bfccf73a40b213ddc98656",
    "collapsed": true
   },
   "outputs": [],
   "source": [
    "# Keys have to be immutable objects like string, boolean, float, integer or tubles\n",
    "# List is not immutable\n",
    "# Keys are unique\n",
    "dictionary['spain'] = \"barcelona\"    # update existing entry\n",
    "print(dictionary)\n",
    "dictionary['france'] = \"paris\"       # Add new entry\n",
    "print(dictionary)\n",
    "del dictionary['spain']              # remove entry with key 'spain'\n",
    "print(dictionary)\n",
    "print('france' in dictionary)        # check include or not\n",
    "dictionary.clear()                   # remove all entries in dict\n",
    "print(dictionary)\n"
   ]
  },
  {
   "cell_type": "code",
   "execution_count": null,
   "metadata": {
    "_cell_guid": "24716949-62ce-4049-8e3c-953b2dfde104",
    "_uuid": "ebe6049e945e9d3f1e2933de0957004f76810655",
    "collapsed": true
   },
   "outputs": [],
   "source": [
    "# In order to run all code you need to take comment this line\n",
    "# del dictionary ;        # delete entire dictionary     \n",
    "print(dictionary)       # it gives error because dictionary is deleted"
   ]
  },
  {
   "cell_type": "markdown",
   "metadata": {
    "_cell_guid": "f61ebed3-1c91-4420-9c97-73736923db7a",
    "_uuid": "f2d5359eafe4d8e6755d308a89cca6e613f18171"
   },
   "source": [
    "### PANDAS\n",
    "What we need to know about pandas?\n",
    "* CSV: comma - separated values\n",
    "\n"
   ]
  },
  {
   "cell_type": "code",
   "execution_count": null,
   "metadata": {
    "_cell_guid": "b491c0e2-409f-4f09-b431-f8451bf2b1e3",
    "_uuid": "db353b7a004a3502c2bf00c1bf21c7b58b167e87",
    "collapsed": true
   },
   "outputs": [],
   "source": [
    "data = pd.read_csv('../input/pokemon.csv')\n"
   ]
  },
  {
   "cell_type": "code",
   "execution_count": null,
   "metadata": {
    "_cell_guid": "f6e53d0b-784f-4e95-8f92-f83091558044",
    "_uuid": "e2c3fe30bf5208c25f297b1a570d4e59066bdd17",
    "collapsed": true
   },
   "outputs": [],
   "source": [
    "series = data['Defense']        # data['Defense'] = series\n",
    "print(type(series))\n",
    "data_frame = data[['Defense']]  # data[['Defense']] = data frame\n",
    "print(type(data_frame))\n"
   ]
  },
  {
   "cell_type": "markdown",
   "metadata": {
    "_cell_guid": "5dcb3a55-7d7b-4313-ba7f-f1bf7e6de29b",
    "_uuid": "8ebf125ce8fb94a3d150dc9e34ddd8679fd11b88"
   },
   "source": [
    "Before continue with pandas,   we need to learn **logic, control flow** and **filtering.**\n",
    "<br>Comparison operator:  ==, <, >, <=\n",
    "<br>Boolean operators: and, or ,not\n",
    "<br> Filtering pandas"
   ]
  },
  {
   "cell_type": "code",
   "execution_count": null,
   "metadata": {
    "_cell_guid": "18834766-d00b-42c7-acc2-574c93d2b257",
    "_uuid": "828d1147d691b169038625b7898c9921f9b10158",
    "collapsed": true
   },
   "outputs": [],
   "source": [
    "# Comparison operator\n",
    "print(3 > 2)\n",
    "print(3!=2)\n",
    "# Boolean operators\n",
    "print(True and False)\n",
    "print(True or False)"
   ]
  },
  {
   "cell_type": "code",
   "execution_count": null,
   "metadata": {
    "_cell_guid": "69545093-7fb3-480f-81ce-da43e454f6a1",
    "_uuid": "938e72fa22c91518109b392bca37d8bdf818ba74",
    "collapsed": true
   },
   "outputs": [],
   "source": [
    "# 1 - Filtering Pandas data frame\n",
    "x = data['Defense']>200     # There are only 3 pokemons who have higher defense value than 200\n",
    "data[x]"
   ]
  },
  {
   "cell_type": "code",
   "execution_count": null,
   "metadata": {
    "_cell_guid": "4a2f40ce-369d-47ba-8770-69cf9206dfe3",
    "_uuid": "2cee83f86893df74a7fba5815ee60e40714d37e7",
    "collapsed": true
   },
   "outputs": [],
   "source": [
    "# 2 - Filtering pandas with logical_and\n",
    "# There are only 2 pokemons who have higher defence value than 2oo and higher attack value than 100\n",
    "data[np.logical_and(data['Defense']>200, data['Attack']>100 )]"
   ]
  },
  {
   "cell_type": "code",
   "execution_count": null,
   "metadata": {
    "_cell_guid": "c620dacd-69f3-49da-910e-9f24c0483264",
    "_uuid": "b02b537a8637e9ec5634a9332a0c1bee4bcb4603",
    "collapsed": true
   },
   "outputs": [],
   "source": [
    "# This is also same with previous code line. Therefore we can also use '&' for filtering.\n",
    "data[(data['Defense']>200) & (data['Attack']>100)]"
   ]
  },
  {
   "cell_type": "markdown",
   "metadata": {
    "_cell_guid": "bb8e4ba1-d92a-4219-8f08-84e2e044a980",
    "_uuid": "7d9ff0ae3ea190bb3da753591ca769fbace9c852"
   },
   "source": [
    "### WHILE and FOR LOOPS\n",
    "We will learn most basic while and for loops"
   ]
  },
  {
   "cell_type": "code",
   "execution_count": null,
   "metadata": {
    "_cell_guid": "a0ad9c00-7264-4d72-a53d-6f6d9ade6077",
    "_uuid": "35212537f956657159838e77317e08c8b328b68f",
    "collapsed": true
   },
   "outputs": [],
   "source": [
    "# Stay in loop if condition( i is not equal 5) is true\n",
    "i = 0\n",
    "while i != 5 :\n",
    "    print('i is: ',i)\n",
    "    i +=1 \n",
    "print(i,' is equal to 5')"
   ]
  },
  {
   "cell_type": "code",
   "execution_count": null,
   "metadata": {
    "_cell_guid": "db251333-13e3-4dd2-9352-cd60fb1dde93",
    "_uuid": "15f6f6fde5a78143f0550c7042e964cfb33f4026",
    "collapsed": true
   },
   "outputs": [],
   "source": [
    "# Stay in loop if condition( i is not equal 5) is true\n",
    "lis = [1,2,3,4,5]\n",
    "for i in lis:\n",
    "    print('i is: ',i)\n",
    "print('')\n",
    "\n",
    "# Enumerate index and value of list\n",
    "# index : value = 0:1, 1:2, 2:3, 3:4, 4:5\n",
    "for index, value in enumerate(lis):\n",
    "    print(index,\" : \",value)\n",
    "print('')   \n",
    "\n",
    "# For dictionaries\n",
    "# We can use for loop to achive key and value of dictionary. We learnt key and value at dictionary part.\n",
    "dictionary = {'spain':'madrid','france':'paris'}\n",
    "for key,value in dictionary.items():\n",
    "    print(key,\" : \",value)\n",
    "print('')\n",
    "\n",
    "# For pandas we can achieve index and value\n",
    "for index,value in data[['Attack']][0:1].iterrows():\n",
    "    print(index,\" : \",value)\n",
    "\n"
   ]
  },
  {
   "cell_type": "markdown",
   "metadata": {
    "_cell_guid": "df56f9cd-0921-4a5b-90a8-1278a034aa8d",
    "_uuid": "404a758881c5ba93f9232e02663e8f26d7a45066"
   },
   "source": [
    "In this part, you learn:\n",
    "* how to import csv file\n",
    "* plotting line,scatter and histogram\n",
    "* basic dictionary features\n",
    "* basic pandas features like filtering that is actually something always used and main for being data scientist\n",
    "* While and for loops"
   ]
  },
  {
   "cell_type": "markdown",
   "metadata": {
    "_cell_guid": "b79aeead-29d5-4a51-a19c-c27a5e317eda",
    "_uuid": "3e304ee7d585dbe9abb7748fc7afc30d142dd185",
    "collapsed": true
   },
   "source": [
    "# 2. PYTHON DATA SCIENCE TOOLBOX"
   ]
  },
  {
   "cell_type": "markdown",
   "metadata": {
    "_cell_guid": "bd7fe5fc-5a05-46ac-8e65-3fe067e2348e",
    "_uuid": "702f9ce8e973eace72ca4d4a7e4a8330d6728518",
    "collapsed": true
   },
   "source": [
    "### USER DEFINED FUNCTION\n",
    "What we need to know about functions:\n",
    "* docstrings: documentation for functions. Example:\n",
    "<br>for f():\n",
    "    <br>\"\"\"This is docstring for documentation of function f\"\"\"\n",
    "* tuble: sequence of immutable python objects. \n",
    "<br>cant modify values\n",
    "<br>tuble uses paranthesis like tuble = (1,2,3)\n",
    "<br>unpack tuble into several variables like a,b,c = tuble\n",
    "    "
   ]
  },
  {
   "cell_type": "code",
   "execution_count": null,
   "metadata": {
    "_cell_guid": "ba997f70-6e04-41ed-81e5-aa6b1db858be",
    "_uuid": "272bfdc274e6a06374a461db55d5c832387e45b4",
    "collapsed": true
   },
   "outputs": [],
   "source": [
    "# example of what we learn above\n",
    "def tuble_ex():\n",
    "    \"\"\" return defined t tuble\"\"\"\n",
    "    t = (1,2,3)\n",
    "    return t\n",
    "a,b,c = tuble_ex()\n",
    "print(a,b,c)"
   ]
  },
  {
   "cell_type": "markdown",
   "metadata": {
    "_cell_guid": "0389d2b7-f453-4d37-ba31-f34e9a29bfab",
    "_uuid": "51a4502ebd55b73cbd8389ded11f83f99fcd7ea7"
   },
   "source": [
    "### SCOPE\n",
    "What we need to know about scope:\n",
    "* global: defined main body in script\n",
    "* local: defined in a function\n",
    "* built in scope: names in predefined built in scope module such as print, len\n",
    "<br><br>Lets make some basic examples"
   ]
  },
  {
   "cell_type": "code",
   "execution_count": null,
   "metadata": {
    "_cell_guid": "e66efe45-d23d-42c6-ad2e-7d1c6c81d00b",
    "_uuid": "7b641a05d5f6713914b2c8b050c54e18c5b1c814",
    "collapsed": true
   },
   "outputs": [],
   "source": [
    "# guess print what\n",
    "x = 2\n",
    "def f():\n",
    "    x = 3\n",
    "    return x\n",
    "print(x)      # x = 2 global scope\n",
    "print(f())    # x = 3 local scope"
   ]
  },
  {
   "cell_type": "code",
   "execution_count": null,
   "metadata": {
    "_cell_guid": "e2896a91-8bf6-4a03-b043-f6149b67b7b0",
    "_uuid": "5d3aa6ee7871085b2dbc6ee228dec83b69bf26f3",
    "collapsed": true
   },
   "outputs": [],
   "source": [
    "# What if there is no local scope\n",
    "x = 5\n",
    "def f():\n",
    "    y = 2*x        # there is no local scope x\n",
    "    return y\n",
    "print(f())         # it uses global scope x\n",
    "# First local scopesearched, then global scope searched, if two of them cannot be found lastly built in scope searched."
   ]
  },
  {
   "cell_type": "code",
   "execution_count": null,
   "metadata": {
    "_cell_guid": "3c02f726-9949-4376-9c70-ef656a1d53dd",
    "_uuid": "29c42e58da5082f818302e6b6eed90a6cd68269c",
    "collapsed": true
   },
   "outputs": [],
   "source": [
    "# How can we learn what is built in scope\n",
    "import builtins\n",
    "dir(builtins)"
   ]
  },
  {
   "cell_type": "markdown",
   "metadata": {
    "_cell_guid": "1112921c-cdbe-46c5-a47b-eedbbb5b24f9",
    "_uuid": "afc667bf0eef59ae6ea646ae52196d2f724ea28d"
   },
   "source": [
    "### NESTED FUNCTION\n",
    "* function inside function.\n",
    "* There is a LEGB rule that is search local scope, enclosing function, global and built in scopes, respectively."
   ]
  },
  {
   "cell_type": "code",
   "execution_count": null,
   "metadata": {
    "_cell_guid": "78decf80-3efd-446d-b8d8-1a6bbd1023ab",
    "_uuid": "4932231358d9afae2b978f133ed9facedeeeb0e3",
    "collapsed": true
   },
   "outputs": [],
   "source": [
    "#nested function\n",
    "def square():\n",
    "    \"\"\" return square of value \"\"\"\n",
    "    def add():\n",
    "        \"\"\" add two local variable \"\"\"\n",
    "        x = 2\n",
    "        y = 3\n",
    "        z = x + y\n",
    "        return z\n",
    "    return add()**2\n",
    "print(square())    "
   ]
  },
  {
   "cell_type": "markdown",
   "metadata": {
    "_cell_guid": "8f18e20a-edde-43fb-8e78-8cb01f90c5df",
    "_uuid": "3274dc25dd887a8a5ff84e38749782fb89bfe5fb"
   },
   "source": [
    "### DEFAULT and FLEXIBLE ARGUMENTS\n",
    "* Default argument example:\n",
    "<br> def f(a, b=1):\n",
    "        \"\"\" b = 1 is default argument\"\"\"\n",
    "* Flexible argument example:\n",
    "<br> def f(*args):\n",
    "       \"\"\" *args can be one or more\"\"\"\n",
    "<br>def f(** kwargs)\n",
    "       \"\"\" **kwargs is a dictionary\"\"\"\n",
    "       \n",
    "<br><br> lets write some code to practice  "
   ]
  },
  {
   "cell_type": "code",
   "execution_count": null,
   "metadata": {
    "_cell_guid": "a236e2bb-35ac-472d-9cf5-1df78681595e",
    "_uuid": "bcd3af982d700b5a7bde40e22ab0a1adff14b917",
    "collapsed": true
   },
   "outputs": [],
   "source": [
    "# default arguments\n",
    "def f(a, b = 1, c = 2):\n",
    "    y = a + b + c\n",
    "    return y\n",
    "print(f(5))\n",
    "# what if we want to change default arguments\n",
    "print(f(5,4,3))"
   ]
  },
  {
   "cell_type": "code",
   "execution_count": null,
   "metadata": {
    "_cell_guid": "6ed24035-8486-4d37-809c-845692deaa91",
    "_uuid": "6529482583c46658dfe3906243600ce875cb1a53",
    "collapsed": true
   },
   "outputs": [],
   "source": [
    "# flexible arguments *args\n",
    "def f(*args):\n",
    "    for i in args:\n",
    "        print(i)\n",
    "f(1)\n",
    "print(\"\")\n",
    "f(1,2,3,4)\n",
    "# flexible arguments **kwargs that is dictionary\n",
    "def f(**kwargs):\n",
    "    \"\"\" print key and value of dictionary\"\"\"\n",
    "    for key, value in kwargs.items():               # If you do not understand this part turn for loop part and look at dictionary in for loop\n",
    "        print(key, \" \", value)\n",
    "f(country = 'spain', capital = 'madrid', population = 123456)"
   ]
  },
  {
   "cell_type": "markdown",
   "metadata": {
    "_cell_guid": "837451b7-4b8d-4238-ada5-1dcd7a70ca1a",
    "_uuid": "cd1208fab566fa19e6113d33769bd4bdb1c288df"
   },
   "source": [
    "### LAMBDA FUNCTION\n",
    "Faster way of writing function"
   ]
  },
  {
   "cell_type": "code",
   "execution_count": null,
   "metadata": {
    "_cell_guid": "0592c111-5e5c-44de-a215-4d15aca23c89",
    "_uuid": "40f4345032941d91590476be075e153b09f9faaa",
    "collapsed": true
   },
   "outputs": [],
   "source": [
    "# lambda function\n",
    "square = lambda x: x**2     # where x is name of argument\n",
    "print(square(4))\n",
    "tot = lambda x,y,z: x+y+z   # where x,y,z are names of arguments\n",
    "print(tot(1,2,3))"
   ]
  },
  {
   "cell_type": "markdown",
   "metadata": {
    "_cell_guid": "ccacae57-520a-4764-aa7d-bef44f751e12",
    "_uuid": "0e6e2a684622e564faecbe213e38cc4a3dd2db2f"
   },
   "source": [
    "### ANONYMOUS FUNCTİON\n",
    "Like lambda function but it can take more than one arguments.\n",
    "* map(func,seq) : applies a function to all the items in a list\n"
   ]
  },
  {
   "cell_type": "code",
   "execution_count": null,
   "metadata": {
    "_cell_guid": "3b472c0f-5eb3-497f-a5b2-13024ba8530a",
    "_uuid": "044c5e0970d9dbf0696412ddac0898783123919c",
    "collapsed": true
   },
   "outputs": [],
   "source": [
    "number_list = [1,2,3]\n",
    "y = map(lambda x:x**2,number_list)\n",
    "print(list(y))"
   ]
  },
  {
   "cell_type": "markdown",
   "metadata": {
    "_cell_guid": "a0c2879e-9889-411f-bcd3-ca4cd74999b6",
    "_uuid": "cbaeed46ece066c8ed53d156bb3e2867a7971934"
   },
   "source": [
    "### ITERATORS\n",
    "* iterable is an object that can return an iterator\n",
    "* iterable: an object with an associated iter() method\n",
    "<br> example: list, strings and dictionaries\n",
    "* iterator: produces next value with next() method"
   ]
  },
  {
   "cell_type": "code",
   "execution_count": null,
   "metadata": {
    "_cell_guid": "6a4a77a8-241b-4f85-811c-99461ffe0307",
    "_uuid": "01eb4bd8e109b0c2f6ba4b70c552557b9e7cbe01",
    "collapsed": true
   },
   "outputs": [],
   "source": [
    "# iteration example\n",
    "name = \"ronaldo\"\n",
    "it = iter(name)\n",
    "print(next(it))    # print next iteration\n",
    "print(*it)         # print remaining iteration\n"
   ]
  },
  {
   "cell_type": "markdown",
   "metadata": {
    "_cell_guid": "a906d18d-daff-4ad9-bb10-5cb12a185aca",
    "_uuid": "36c4a3c649964a5d5d1f2be66a95bf373f8507ec"
   },
   "source": [
    "zip(): zip lists"
   ]
  },
  {
   "cell_type": "code",
   "execution_count": null,
   "metadata": {
    "_cell_guid": "946f74d8-556d-418d-b8d6-93fae0d4163e",
    "_uuid": "33e7bc5d6bdf809c5d6d12168cb5fbea339583c1",
    "collapsed": true
   },
   "outputs": [],
   "source": [
    "# zip example\n",
    "list1 = [1,2,3,4]\n",
    "list2 = [5,6,7,8]\n",
    "z = zip(list1,list2)\n",
    "print(z)\n",
    "z_list = list(z)\n",
    "print(z_list)"
   ]
  },
  {
   "cell_type": "code",
   "execution_count": null,
   "metadata": {
    "_cell_guid": "adf6eb96-1549-4650-a6c5-2cc3d6da69be",
    "_uuid": "982958f5f9b5c3625a4677fc649ea417e55a257a",
    "collapsed": true
   },
   "outputs": [],
   "source": [
    "un_zip = zip(*z_list)\n",
    "un_list1,un_list2 = list(un_zip) # unzip returns tuble\n",
    "print(un_list1)\n",
    "print(un_list2)\n",
    "print(type(un_list2))"
   ]
  },
  {
   "cell_type": "markdown",
   "metadata": {
    "_cell_guid": "9b15b18c-9480-4ccf-943d-decf9456a941",
    "_uuid": "3d9ea77004586462944b3bba2bbaac4979325098"
   },
   "source": [
    "### LIST COMPREHENSİON\n",
    "**One of the most important topic of this kernel**\n",
    "<br>We use list comprehension for data analysis often. \n",
    "<br> list comprehension: collapse for loops for building lists into a single line\n",
    "<br>Ex: num1 = [1,2,3] and we want to make it num2 = [2,3,4]. This can be done with for loop. However it is  unnecessarily long. We can make it one line code that is list comprehension."
   ]
  },
  {
   "cell_type": "code",
   "execution_count": null,
   "metadata": {
    "_cell_guid": "312b0109-e55c-4362-a3be-24d3ccf52818",
    "_uuid": "47e21eea59b09d727abc3fd5a19597a268ecdcc5",
    "collapsed": true
   },
   "outputs": [],
   "source": [
    "# Example of list comprehension\n",
    "num1 = [1,2,3]\n",
    "num2 = [i + 1 for i in num1 ]\n",
    "print(num2)"
   ]
  },
  {
   "cell_type": "markdown",
   "metadata": {
    "_cell_guid": "d360598f-78c1-4e9e-adae-225ff743932b",
    "_uuid": "b8d7403c4147c0dc70d04835c744d1fd27b74ff8"
   },
   "source": [
    "[i + 1 for i in num1 ]: list of comprehension\n",
    "<br> i +1: list comprehension syntax\n",
    "<br> for i in num1: for loop syntax\n",
    "<br> i: iterator\n",
    "<br> num1: iterable object"
   ]
  },
  {
   "cell_type": "code",
   "execution_count": null,
   "metadata": {
    "_cell_guid": "7e41f0cc-c036-4168-b0ff-de5be82f5d80",
    "_uuid": "d737e60cdade7c2a9db743dae912b0dac74bb364",
    "collapsed": true
   },
   "outputs": [],
   "source": [
    "# Conditionals on iterable\n",
    "num1 = [5,10,15]\n",
    "num2 = [i**2 if i == 10 else i-5 if i < 7 else i+5 for i in num1]\n",
    "print(num2)"
   ]
  },
  {
   "cell_type": "code",
   "execution_count": null,
   "metadata": {
    "_cell_guid": "8b2341a6-fcff-48ce-8063-d3c65e80cd7f",
    "_uuid": "18020e20af302091032b5df79a9ea71fd7150f04",
    "collapsed": true
   },
   "outputs": [],
   "source": [
    "# lets return pokemon csv and make one more list comprehension example\n",
    "# lets classify pokemons whether they have high or low speed. Our threshold is average speed.\n",
    "threshold = sum(data.Speed)/len(data.Speed)\n",
    "data[\"speed_level\"] = [\"high\" if i > threshold else \"low\" for i in data.Speed]\n",
    "data.loc[:10,[\"speed_level\",\"Speed\"]] # we will learn loc more detailed later"
   ]
  },
  {
   "cell_type": "markdown",
   "metadata": {
    "_cell_guid": "6fc1c6e4-db02-4ff0-ac75-7a06d1f7ef83",
    "_uuid": "8a8d730155a304e3815c352cdc9cad80e7420f97"
   },
   "source": [
    "Up to now, you learn \n",
    "* User defined function \n",
    "* Scope\n",
    "* Nested function\n",
    "* Default and flexible arguments\n",
    "* Lambda function\n",
    "*  Anonymous function\n",
    "*  Iterators\n",
    "* List comprehension\n"
   ]
  },
  {
   "cell_type": "markdown",
   "metadata": {
    "_cell_guid": "a26825df-9079-4f97-93e3-63c8b98ab34f",
    "_uuid": "b4b1aa76a6f01fba71ee4651644833f31f2f28e3"
   },
   "source": [
    "# 3.CLEANING DATA"
   ]
  },
  {
   "cell_type": "markdown",
   "metadata": {
    "_cell_guid": "a6541a7c-6b90-42be-b29e-279820a635ef",
    "_uuid": "2f2fa15880c903eab5493adf3e89ac7648c2ab01"
   },
   "source": [
    "### DIAGNOSE DATA for CLEANING\n",
    "We need to diagnose and clean data before exploring.\n",
    "<br>Unclean data:\n",
    "* Column name inconsistency like upper-lower case letter or space between words\n",
    "* missing data\n",
    "* different language\n",
    "\n",
    "<br> We will use head, tail, columns, shape and info methods to diagnose data\n"
   ]
  },
  {
   "cell_type": "code",
   "execution_count": null,
   "metadata": {
    "_cell_guid": "21c88b75-45c8-4e5f-b9c8-c74079ffc3b1",
    "_uuid": "81ac8f450a9d5b2d53c96c2be7c1fbeda1e590ff",
    "collapsed": true
   },
   "outputs": [],
   "source": [
    "data = pd.read_csv('../input/pokemon.csv')\n",
    "data.head()  # head shows first 5 rows"
   ]
  },
  {
   "cell_type": "code",
   "execution_count": null,
   "metadata": {
    "_cell_guid": "dfa5f2f3-8e4b-4056-8eda-2b0e994c1a84",
    "_uuid": "4e6d6ab90c930a6efb3ec2f5f89cb964cc3891b8",
    "collapsed": true
   },
   "outputs": [],
   "source": [
    "# tail shows last 5 rows\n",
    "data.tail()"
   ]
  },
  {
   "cell_type": "code",
   "execution_count": null,
   "metadata": {
    "_cell_guid": "023d0da4-d194-465d-a486-aeb8d3669723",
    "_uuid": "29cf7a1b2960de57f30f5ee9145868c37eef3bbf",
    "collapsed": true
   },
   "outputs": [],
   "source": [
    "# columns gives column names of features\n",
    "data.columns"
   ]
  },
  {
   "cell_type": "code",
   "execution_count": null,
   "metadata": {
    "_cell_guid": "c2d689ca-965a-401f-936b-45a18b439235",
    "_uuid": "df33df50b7f37060c5c023ae3d9b2850224e56b6",
    "collapsed": true
   },
   "outputs": [],
   "source": [
    "# shape gives number of rows and columns in a tuble\n",
    "data.shape"
   ]
  },
  {
   "cell_type": "code",
   "execution_count": null,
   "metadata": {
    "_cell_guid": "c049689c-f008-4719-87e7-fe76759a187d",
    "_uuid": "10e28d2e3a0e60e75978e0fec6d7b71713842284",
    "collapsed": true
   },
   "outputs": [],
   "source": [
    "# info gives data type like dataframe, number of sample or row, number of feature or column, feature types and memory usage\n",
    "data.info()"
   ]
  },
  {
   "cell_type": "markdown",
   "metadata": {
    "_cell_guid": "1f715c87-3b8a-494e-8bfd-ec6dbe20d649",
    "_uuid": "668f97561ff0da7328c34c7076c67ec58d83d2be"
   },
   "source": [
    "### EXPLOTARY DATA ANALYSIS\n",
    "value_counts(): Frequency counts\n",
    "<br>outliers: the value that is considerably higher or lower from rest of the data\n",
    "* Lets say value at 75% is Q3 and value at 25% is Q1. \n",
    "* Outlier are smaller than Q1 - 1.5(Q3-Q1) and bigger than Q3 + 1.5(Q3-Q1) \n",
    "<br>We will use describe() method. Describe method includes:\n",
    "* count: number of entries\n",
    "* mean: average of entries\n",
    "* std: standart deviation\n",
    "* min: minimum entry\n",
    "* 25%: first quantile\n",
    "* 50%: median or second quantile\n",
    "* 75%: third quantile\n",
    "* max: maximum entry\n",
    "\n",
    "<br> What is quantile?\n",
    "\n",
    "* 1,4,5,6,8,9,11,12,13,14,15,16,17\n",
    "* The median is the number that is in **middle** of the sequence. In this case it would be 11.\n",
    "\n",
    "* The lower quartile is the median in between the smallest number and the median i.e. in between 1 and 11, which is 6.\n",
    "* The upper quartile, you find the median between the median and the largest number i.e. between 11 and 17, which will be 15 according to the question above."
   ]
  },
  {
   "cell_type": "code",
   "execution_count": null,
   "metadata": {
    "_cell_guid": "b7491a4e-0181-496c-9d9d-0218924e8573",
    "_uuid": "ab137e0391b821d32c0a55479838d4d6fb842610",
    "collapsed": true
   },
   "outputs": [],
   "source": [
    "# For example lets look frequency of pokemom types\n",
    "print(data['Type 1'].value_counts(dropna =False))  # if there are nan values that also be counted\n",
    "# As it can be seen below there are 112 water pokemon or 70 grass pokemon"
   ]
  },
  {
   "cell_type": "code",
   "execution_count": null,
   "metadata": {
    "_cell_guid": "204c5fd8-c6e4-465c-a58b-a0e60c5c0cd0",
    "_uuid": "db7c2f3555e4b8e213ee188bf3b3a8196b376a27",
    "collapsed": true
   },
   "outputs": [],
   "source": [
    "# For example max HP is 255 or min defense is 5\n",
    "data.describe() #ignore null entries"
   ]
  },
  {
   "cell_type": "markdown",
   "metadata": {
    "_cell_guid": "fb634d71-1e4b-4bf5-ba7e-aacab2d5e335",
    "_uuid": "e389f1cf2540022db4c9114d177af0d4d920aa6f"
   },
   "source": [
    "###VISUAL EXPLORATORY DATA ANALYSIS\n",
    "* Box plots: visualize basic statistics like outliers, min/max or quantiles"
   ]
  },
  {
   "cell_type": "code",
   "execution_count": null,
   "metadata": {
    "_cell_guid": "0381cfb1-755a-4cf3-83fc-654ea648263d",
    "_uuid": "2725f1196c0742a3ba5c172cdd28cd8e214884fc",
    "collapsed": true
   },
   "outputs": [],
   "source": [
    "# For example: compare attack of pokemons that are legendary  or not\n",
    "# Black line at top is max\n",
    "# Blue line at top is 75%\n",
    "# Red line is median (50%)\n",
    "# Blue line at bottom is 25%\n",
    "# Black line at bottom is min\n",
    "# There are no outliers\n",
    "data.boxplot(column='Attack',by = 'Legendary')"
   ]
  },
  {
   "cell_type": "markdown",
   "metadata": {
    "_cell_guid": "1f9bc5b9-a732-4844-b355-6729786baa0d",
    "_uuid": "727bbcc5add844f068310378b8e710d18be543a3"
   },
   "source": [
    "### TIDY DATA\n",
    "We tidy data with melt().\n",
    "Describing melt is confusing. Therefore lets make example to understand it.\n"
   ]
  },
  {
   "cell_type": "code",
   "execution_count": null,
   "metadata": {
    "_cell_guid": "3d98ae45-a64c-450c-aa2e-b7b7a1f99cde",
    "_uuid": "eaa9bbb12d2aa9f7f691e16555627f7e9726c82a",
    "collapsed": true
   },
   "outputs": [],
   "source": [
    "# Firstly I create new data from pokemons data to explain melt nore easily.\n",
    "data_new = data.head()    # I only take 5 rows into new data\n",
    "data_new"
   ]
  },
  {
   "cell_type": "code",
   "execution_count": null,
   "metadata": {
    "_cell_guid": "5e1d0367-0cf3-4ac2-9a5b-cda7a86ffed4",
    "_uuid": "b2aa33597ea79113c7c986691436b3c4f8c6ec36",
    "collapsed": true
   },
   "outputs": [],
   "source": [
    "# lets melt\n",
    "# id_vars = what we do not wish to melt\n",
    "# value_vars = what we want to melt\n",
    "melted = pd.melt(frame=data_new,id_vars = 'Name', value_vars= ['Attack','Defense'])\n",
    "melted"
   ]
  },
  {
   "cell_type": "markdown",
   "metadata": {
    "_cell_guid": "9c3cb307-d969-4ba6-bf8e-9cbbaed738f4",
    "_uuid": "d2bd6f566fadb6cae31d03952cf8718a9176af74"
   },
   "source": [
    "### PIVOTING DATA\n",
    "Reverse of melting."
   ]
  },
  {
   "cell_type": "code",
   "execution_count": null,
   "metadata": {
    "_cell_guid": "f228fae4-22a1-4516-87fc-744b0e353ae0",
    "_uuid": "7ffe547a4db19744d7c795ce71f8fccf784345cc",
    "collapsed": true
   },
   "outputs": [],
   "source": [
    "# Index is name\n",
    "# I want to make that columns are variable\n",
    "# Finally values in columns are value\n",
    "melted.pivot(index = 'Name', columns = 'variable',values='value')"
   ]
  },
  {
   "cell_type": "markdown",
   "metadata": {
    "_cell_guid": "4df2f724-eb10-4745-8d1c-47632f98c730",
    "_uuid": "eada6d94f24abfdea48bd31750f528a779200aa7"
   },
   "source": [
    "### CONCATENATING DATA\n",
    "We can concatenate two dataframe "
   ]
  },
  {
   "cell_type": "code",
   "execution_count": null,
   "metadata": {
    "_cell_guid": "5c0a68a8-21b1-45d7-ac11-697f95665123",
    "_uuid": "7fa6017baeec686bf4ca68fd097b4067d37af1e6",
    "collapsed": true
   },
   "outputs": [],
   "source": [
    "# Firstly lets create 2 data frame\n",
    "data1 = data.head()\n",
    "data2= data.tail()\n",
    "conc_data_row = pd.concat([data1,data2],axis =0,ignore_index =True) # axis = 0 : adds dataframes in row\n",
    "conc_data_row"
   ]
  },
  {
   "cell_type": "code",
   "execution_count": null,
   "metadata": {
    "_cell_guid": "84657f55-6217-4d54-acf9-4a774283a2a7",
    "_uuid": "d6cd784edaa511994dbd07375883cfeb46e9200a",
    "collapsed": true
   },
   "outputs": [],
   "source": [
    "data1 = data['Attack'].head()\n",
    "data2= data['Defense'].head()\n",
    "conc_data_col = pd.concat([data1,data2],axis =1) # axis = 0 : adds dataframes in row\n",
    "conc_data_col"
   ]
  },
  {
   "cell_type": "markdown",
   "metadata": {
    "_cell_guid": "c6506494-9a34-4900-88d0-a183e6ec676e",
    "_uuid": "758a297da4257a0e8b13b834cb38e0cfd31a42c4"
   },
   "source": [
    "### DATA TYPES\n",
    "There are 5 basic data types: object(string),booleab,  integer, float and categorical.\n",
    "<br> We can make conversion data types like from str to categorical or from int to float\n",
    "<br> Why is category important: \n",
    "* make dataframe smaller in memory \n",
    "* can be utilized for anlaysis especially for sklear(we will learn later)"
   ]
  },
  {
   "cell_type": "code",
   "execution_count": null,
   "metadata": {
    "_cell_guid": "2d14a63b-baaa-4043-9354-c4eb2005eaec",
    "_uuid": "189a136dda80d249075a4babfce8f2bf427e1e14",
    "collapsed": true
   },
   "outputs": [],
   "source": [
    "data.dtypes"
   ]
  },
  {
   "cell_type": "code",
   "execution_count": null,
   "metadata": {
    "_cell_guid": "e2295cd3-c374-4454-996f-e8c47d4e65ae",
    "_uuid": "677183c4cb3b0068c0969ea0221622f912e0d726",
    "collapsed": true
   },
   "outputs": [],
   "source": [
    "# lets convert object(str) to categorical and int to float.\n",
    "data['Type 1'] = data['Type 1'].astype('category')\n",
    "data['Speed'] = data['Speed'].astype('float')"
   ]
  },
  {
   "cell_type": "code",
   "execution_count": null,
   "metadata": {
    "_cell_guid": "64432d04-989a-4157-ad33-18148ed8808f",
    "_uuid": "6f7930b9c10fc4dbb6114cceaedb430cba5859c3",
    "collapsed": true
   },
   "outputs": [],
   "source": [
    "# As you can see Type 1 is converted from object to categorical\n",
    "# And Speed ,s converted from int to float\n",
    "data.dtypes"
   ]
  },
  {
   "cell_type": "markdown",
   "metadata": {
    "_cell_guid": "5f13c750-479a-4fee-8cf4-2fbe776add00",
    "_uuid": "7818b9bf6a9eaf925df9a6b6edd27a0937a4a3fb"
   },
   "source": [
    "### MISSING DATA and TESTING WITH ASSERT\n",
    "If we encounter with missing data, what we can do:\n",
    "* leave as is\n",
    "* drop them with dropna()\n",
    "* fill missing value with fillna()\n",
    "* fill missing values with test statistics like mean\n",
    "<br>Assert statement: check that you can turn on or turn off when you are done with your testing of the program"
   ]
  },
  {
   "cell_type": "code",
   "execution_count": null,
   "metadata": {
    "_cell_guid": "0dbc25f3-0baa-4bc7-aca2-30bbc22a29f9",
    "_uuid": "6540211728242f373650e1ea7154b1a614fe47d7",
    "collapsed": true
   },
   "outputs": [],
   "source": [
    "# Lets look at does pokemon data have nan value\n",
    "# As you can see there are 800 entries. However Type 2 has 414 non-null object so it has 386 null object.\n",
    "data.info()"
   ]
  },
  {
   "cell_type": "code",
   "execution_count": null,
   "metadata": {
    "_cell_guid": "9417ff2a-52f2-4265-a480-6e3b28008627",
    "_uuid": "e0770123fd627fca063e3c7c44df938c1bcc7bc9",
    "collapsed": true
   },
   "outputs": [],
   "source": [
    "# Lets chech Type 2\n",
    "data[\"Type 2\"].value_counts(dropna =False)\n",
    "# As you can see, there are 386 NAN value"
   ]
  },
  {
   "cell_type": "code",
   "execution_count": null,
   "metadata": {
    "_cell_guid": "a8f0fe39-3574-4184-bedd-c0ab2eec66aa",
    "_uuid": "1f67742c1571ec5013292f1822b3263861139f9e",
    "collapsed": true
   },
   "outputs": [],
   "source": [
    "# Lets drop nan values\n",
    "data1=data   # also we will use data to fill missing value so I assign it to data1 variable\n",
    "data1[\"Type 2\"].dropna(inplace = True)  # inplace = True means we do not assign it to new variable. Changes automatically assigned to data\n",
    "# So does it work ?"
   ]
  },
  {
   "cell_type": "code",
   "execution_count": null,
   "metadata": {
    "_cell_guid": "031f0c5a-f91e-4eac-855e-1e6843c3a0b7",
    "_uuid": "571ede30ef8feb08769489f69a5baaf3a49c8a36",
    "collapsed": true
   },
   "outputs": [],
   "source": [
    "#  Lets check with assert statement\n",
    "# Assert statement:\n",
    "assert 1==1 # return nothing because it is true"
   ]
  },
  {
   "cell_type": "code",
   "execution_count": null,
   "metadata": {
    "_cell_guid": "d6d94f0e-1b9d-4a85-a54c-ba4c3d3b8568",
    "_uuid": "573479243c7a6769489806cf0f04aa5445391176",
    "collapsed": true
   },
   "outputs": [],
   "source": [
    "# In order to run all code, we need to make this line comment\n",
    "# assert 1==2 # return error because it is false"
   ]
  },
  {
   "cell_type": "code",
   "execution_count": null,
   "metadata": {
    "_cell_guid": "e363b3ee-0cd5-42ca-b0dc-19a8fd40fbf0",
    "_uuid": "26da00b51411fc990ab515c09d6f8bcb05901d7e",
    "collapsed": true
   },
   "outputs": [],
   "source": [
    "assert  data['Type 2'].notnull().all() # returns nothing because we drop nan values"
   ]
  },
  {
   "cell_type": "code",
   "execution_count": null,
   "metadata": {
    "_cell_guid": "2a596b4f-d4c5-44fb-8938-9f10005de782",
    "_uuid": "5d588a3656a9b80172eef1d19da393beea1cf2a2",
    "collapsed": true
   },
   "outputs": [],
   "source": [
    "data[\"Type 2\"].fillna('empty',inplace = True)\n"
   ]
  },
  {
   "cell_type": "code",
   "execution_count": null,
   "metadata": {
    "_cell_guid": "7523e65c-6e1c-42c4-a442-e9b47285d428",
    "_uuid": "2e6eeec442123a81ab793d4f88e53e543175693f",
    "collapsed": true
   },
   "outputs": [],
   "source": [
    "assert  data['Type 2'].notnull().all() # returns nothing because we drop nan values"
   ]
  },
  {
   "cell_type": "code",
   "execution_count": null,
   "metadata": {
    "_cell_guid": "c1fb6b51-6fae-43f6-bf48-9836be3c85df",
    "_uuid": "e1f1444f3743051ee2fe3178642e250792dbb342",
    "collapsed": true
   },
   "outputs": [],
   "source": [
    "# # With assert statement we can check a lot of thing. For example\n",
    "# assert data.columns[1] == 'Name'\n",
    "# assert data.Speed.dtypes == np.int"
   ]
  },
  {
   "cell_type": "markdown",
   "metadata": {
    "_cell_guid": "2126428f-30af-4b3b-ab19-c46ed54dbff9",
    "_uuid": "ee444113164dac9edc39c91c470408c18186736b"
   },
   "source": [
    "In this part, you learn:\n",
    "* Diagnose data for cleaning\n",
    "* Explotary data analysis\n",
    "* Visual exploratory data analysis\n",
    "* Tidy data\n",
    "* Pivoting data\n",
    "* Concatenating data\n",
    "* Data types\n",
    "* Missing data and testing with assert"
   ]
  },
  {
   "cell_type": "markdown",
   "metadata": {
    "_cell_guid": "c29ea56e-4edd-4418-a5d3-53a966c31ed2",
    "_uuid": "c1638843bfb15c24f134a8cc1b91e39e2a1bbc0d",
    "collapsed": true
   },
   "source": [
    "# 4. PANDAS FOUNDATION "
   ]
  },
  {
   "cell_type": "markdown",
   "metadata": {
    "_cell_guid": "fb8c8c59-4e57-4db3-ae34-999d8b1153cc",
    "_uuid": "71300084e18e296d9c77555072b6e81bdec13b98"
   },
   "source": [
    "### REVİEW of PANDAS\n",
    "As you notice, I do not give all idea in a same time. Although, we learn some basics of pandas, we will go deeper in pandas.\n",
    "* single column = series\n",
    "* NaN = not a number\n",
    "* dataframe.values = numpy\n"
   ]
  },
  {
   "cell_type": "markdown",
   "metadata": {
    "_cell_guid": "6ea9fc17-9b65-4cd0-9de5-877d7b4a5ae2",
    "_uuid": "547d06e3659e4cdf38b896395d60b2fc47d7d0ec"
   },
   "source": [
    "### BUILDING DATA FRAMES FROM SCRATCH\n",
    "* We can build data frames from csv as we did earlier.\n",
    "* Also we can build dataframe from dictionaries\n",
    "    * zip() method: This function returns a list of tuples, where the i-th tuple contains the i-th element from each of the argument sequences or iterables.\n",
    "* Adding new column\n",
    "* Broadcasting: Create new column and assign a value to entire column"
   ]
  },
  {
   "cell_type": "code",
   "execution_count": null,
   "metadata": {
    "_cell_guid": "3e5a9c3a-7f19-4060-a2f7-75c20b28d9fa",
    "_uuid": "da50963dc2c58cd48ca7e65dfecaf9188efaef12",
    "collapsed": true
   },
   "outputs": [],
   "source": [
    "# data frames from dictionary\n",
    "country = [\"Spain\",\"France\"]\n",
    "population = [\"11\",\"12\"]\n",
    "list_label = [\"country\",\"population\"]\n",
    "list_col = [country,population]\n",
    "zipped = list(zip(list_label,list_col))\n",
    "data_dict = dict(zipped)\n",
    "df = pd.DataFrame(data_dict)\n",
    "df"
   ]
  },
  {
   "cell_type": "code",
   "execution_count": null,
   "metadata": {
    "_cell_guid": "cd4b98da-05ca-4f80-9074-3baf3b092e16",
    "_uuid": "a5a1f7bc33cc427f79fc7fe837f8bf2465906629",
    "collapsed": true
   },
   "outputs": [],
   "source": [
    "# Add new columns\n",
    "df[\"capital\"] = [\"madrid\",\"paris\"]\n",
    "df"
   ]
  },
  {
   "cell_type": "code",
   "execution_count": null,
   "metadata": {
    "_cell_guid": "08dc80f8-2f7a-43a1-9d4e-d8088c636f18",
    "_uuid": "17a4a27eeeadfb24ec3ab20737838c9f9d61960b",
    "collapsed": true
   },
   "outputs": [],
   "source": [
    "# Broadcasting\n",
    "df[\"income\"] = 0 #Broadcasting entire column\n",
    "df"
   ]
  },
  {
   "cell_type": "markdown",
   "metadata": {
    "_cell_guid": "24ea1c9f-32bb-462a-b8ad-06660ba24612",
    "_uuid": "be15b4430231fd124af5f823afdd029ed52ce710"
   },
   "source": [
    "### VISUAL EXPLORATORY DATA ANALYSIS\n",
    "* Plot\n",
    "* Subplot\n",
    "* Histogram:\n",
    "    * bins: number of bins\n",
    "    * range(tuble): min and max values of bins\n",
    "    * normed(boolean): normalize or not\n",
    "    * cumulative(boolean): compute cumulative distribution"
   ]
  },
  {
   "cell_type": "code",
   "execution_count": null,
   "metadata": {
    "_cell_guid": "64baf078-8000-4a2e-a1f4-a53f762eedac",
    "_uuid": "77596cbc5da0ac65152d8975b0398b7c3797bd69",
    "collapsed": true
   },
   "outputs": [],
   "source": [
    "# Plotting all data \n",
    "data1 = data.loc[:,[\"Attack\",\"Defense\",\"Speed\"]]\n",
    "data1.plot()\n",
    "# it is confusing"
   ]
  },
  {
   "cell_type": "code",
   "execution_count": null,
   "metadata": {
    "_cell_guid": "f013c335-ff75-4e5b-a1f2-33677a7c1bed",
    "_uuid": "2a48984be00e2aa32327edf045d9baa0c45a72bf",
    "collapsed": true
   },
   "outputs": [],
   "source": [
    "# subplots\n",
    "data1.plot(subplots = True)"
   ]
  },
  {
   "cell_type": "code",
   "execution_count": null,
   "metadata": {
    "_cell_guid": "a5059f53-a8b8-462f-9963-8ee268122e41",
    "_uuid": "754e3b0fcea1180cbc84d0b53e04beaec0b1e829",
    "collapsed": true
   },
   "outputs": [],
   "source": [
    "# scatter plot  \n",
    "data1.plot(kind = \"scatter\",x=\"Attack\",y = \"Defense\")"
   ]
  },
  {
   "cell_type": "code",
   "execution_count": null,
   "metadata": {
    "_cell_guid": "bf5d8c4c-3d16-416f-833f-fc123ce511fe",
    "_uuid": "3291543af72e3cd679f1ef45913b7487ee82c4e2",
    "collapsed": true
   },
   "outputs": [],
   "source": [
    "# hist plot  \n",
    "data1.plot(kind = \"hist\",y = \"Defense\",bins = 50,range= (0,250),normed = True)"
   ]
  },
  {
   "cell_type": "code",
   "execution_count": null,
   "metadata": {
    "_cell_guid": "45222cee-73fa-4982-a0b5-fc309de88b1e",
    "_uuid": "26c60e7d446566b07e5247cc9c923643f568ee2c",
    "collapsed": true
   },
   "outputs": [],
   "source": [
    "# histogram subplot with non cumulative and cumulative\n",
    "fig, axes = plt.subplots(nrows=2,ncols=1)\n",
    "data1.plot(kind = \"hist\",y = \"Defense\",bins = 50,range= (0,250),normed = True,ax = axes[0])\n",
    "data1.plot(kind = \"hist\",y = \"Defense\",bins = 50,range= (0,250),normed = True,ax = axes[1],cumulative = True)"
   ]
  },
  {
   "cell_type": "markdown",
   "metadata": {
    "_cell_guid": "e0896c4f-8086-4577-9a0d-f06015c7877e",
    "_uuid": "1c3330acf16ddc6c35c90e5ab21dd9e459ada94f"
   },
   "source": [
    "### STATISTICAL EXPLORATORY DATA ANALYSIS\n",
    "I already explained it at previous parts. However lets look at one more time.\n",
    "* count: number of entries\n",
    "* mean: average of entries\n",
    "* std: standart deviation\n",
    "* min: minimum entry\n",
    "* 25%: first quantile\n",
    "* 50%: median or second quantile\n",
    "* 75%: third quantile\n",
    "* max: maximum entry"
   ]
  },
  {
   "cell_type": "code",
   "execution_count": null,
   "metadata": {
    "_cell_guid": "c673b7bb-a0ad-42c3-8614-696ec119028f",
    "_uuid": "1d2883a439385295867a92c8070b3576dd356f9b",
    "collapsed": true
   },
   "outputs": [],
   "source": [
    "data.describe()"
   ]
  },
  {
   "cell_type": "markdown",
   "metadata": {
    "_cell_guid": "82016726-fd80-48ca-a39e-70a6a8787e1d",
    "_uuid": "99765451e9fdeaa8d95504dfe9fc26924ff28805"
   },
   "source": [
    "### INDEXING PANDAS TIME SERIES\n",
    "* datetime = object\n",
    "* parse_dates(boolean): Transform date to ISO 8601 (yyyy-mm-dd hh:mm:ss ) format"
   ]
  },
  {
   "cell_type": "code",
   "execution_count": null,
   "metadata": {
    "_cell_guid": "a74e4bea-bfee-4da5-8853-75f5a570365e",
    "_uuid": "58316a1739b2e4bea42900c8a466009cfe2eece5",
    "collapsed": true
   },
   "outputs": [],
   "source": [
    "time_list = [\"1992-03-08\",\"1992-04-12\"]\n",
    "print(type(time_list[1])) # As you can see date is string\n",
    "# however we want it to be datetime object\n",
    "datetime_object = pd.to_datetime(time_list)\n",
    "print(type(datetime_object))"
   ]
  },
  {
   "cell_type": "code",
   "execution_count": null,
   "metadata": {
    "_cell_guid": "8212b965-a682-49eb-879d-1b32a62bf3e6",
    "_uuid": "41be27a210b2c3ba545b3aed6cb558bc6afbdb53",
    "collapsed": true
   },
   "outputs": [],
   "source": [
    "# In order to practice lets take head of pokemon data and add it a time list\n",
    "data2 = data.head()\n",
    "date_list = [\"1992-01-10\",\"1992-02-10\",\"1992-03-10\",\"1993-03-15\",\"1993-03-16\"]\n",
    "datetime_object = pd.to_datetime(date_list)\n",
    "data2[\"date\"] = datetime_object\n",
    "# lets make date as index\n",
    "data2= data2.set_index(\"date\")\n",
    "data2 "
   ]
  },
  {
   "cell_type": "code",
   "execution_count": null,
   "metadata": {
    "_cell_guid": "782ce3c6-b55f-45b8-a6c4-bb657d5adfef",
    "_uuid": "0461271e106794b972ae3a9a20678a3ba64828e7",
    "collapsed": true
   },
   "outputs": [],
   "source": [
    "# Now we can select according to our date index\n",
    "print(data2.loc[\"1993-03-16\"])\n",
    "print(data2.loc[\"1992-03-10\":\"1993-03-16\"])"
   ]
  },
  {
   "cell_type": "markdown",
   "metadata": {
    "_cell_guid": "8bc74e31-77e0-4bc2-b001-91e1c93876c4",
    "_uuid": "bfc885a369211e66b27ff37154928c7d2ddb07a7"
   },
   "source": [
    "### RESAMPLING PANDAS TIME SERIES\n",
    "* Resampling: statistical method over different time intervals\n",
    "    * Needs string to specify frequency like \"M\" = month or \"A\" = year\n",
    "* Downsampling: reduce date time rows to slower frequency like from daily to weekly\n",
    "* Upsampling: increase date time rows to faster frequency like from daily to hourly\n",
    "* Interpolate: Interpolate values according to different methods like ‘linear’, ‘time’ or index’ \n",
    "    * https://pandas.pydata.org/pandas-docs/stable/generated/pandas.Series.interpolate.html\n"
   ]
  },
  {
   "cell_type": "code",
   "execution_count": null,
   "metadata": {
    "_cell_guid": "4c79be17-24e6-406c-91cf-c934f44ca2e3",
    "_uuid": "f95c8bf6ad6008e7dd1b9011e873d962205da157",
    "collapsed": true
   },
   "outputs": [],
   "source": [
    "# We will use data2 that we create at previous part\n",
    "data2.resample(\"A\").mean()"
   ]
  },
  {
   "cell_type": "code",
   "execution_count": null,
   "metadata": {
    "_cell_guid": "65f181e6-4916-4303-9cde-efa2dee80379",
    "_uuid": "8626eb8b9ee570c947eac8a6f62efa28d6cff150",
    "collapsed": true
   },
   "outputs": [],
   "source": [
    "# Lets resample with month\n",
    "data2.resample(\"M\").mean()\n",
    "# As you can see there are a lot of nan because data2 does not include all months"
   ]
  },
  {
   "cell_type": "code",
   "execution_count": null,
   "metadata": {
    "_cell_guid": "d927c625-6d54-41a8-9785-654cf7c89a38",
    "_uuid": "1a7093554636e4307280cdbf802d06070f971190",
    "collapsed": true
   },
   "outputs": [],
   "source": [
    "# In real life (data is real. Not created from us like data2) we can solve this problem with interpolate\n",
    "# We can interpolete from first value\n",
    "data2.resample(\"M\").first().interpolate(\"linear\")"
   ]
  },
  {
   "cell_type": "code",
   "execution_count": null,
   "metadata": {
    "_cell_guid": "fa5b5d7d-07d8-4504-b7d2-957f2bbbb530",
    "_uuid": "b49bc7629e07e9a7c3c6aa878caec72ab0c3ed8d",
    "collapsed": true
   },
   "outputs": [],
   "source": [
    "# Or we can interpolate with mean()\n",
    "data2.resample(\"M\").mean().interpolate(\"linear\")"
   ]
  },
  {
   "cell_type": "markdown",
   "metadata": {
    "_cell_guid": "6aafbc8e-78fd-4caf-b6c0-4d4e60017c23",
    "_uuid": "3be93ff15ffbdb0e1010fe51f2e494cffd931a5d"
   },
   "source": [
    "# MANIPULATING DATA FRAMES WITH PANDAS"
   ]
  },
  {
   "cell_type": "markdown",
   "metadata": {
    "_cell_guid": "a3631e66-7b74-463b-9813-b5f6eabc8ca4",
    "_uuid": "c61c026ac0b65b02ec30a06eb145dfb848dd1ddb"
   },
   "source": [
    "### INDEXING DATA FRAMES\n",
    "* Indexing using square brackets\n",
    "* Using column attribute and row label\n",
    "* Using loc accessor\n",
    "* Selecting only some columns"
   ]
  },
  {
   "cell_type": "code",
   "execution_count": null,
   "metadata": {
    "_cell_guid": "31c51f75-9bfb-46b9-93a7-bc67285cdcd0",
    "_uuid": "8fa63c559933356ffb778da05712529b91849e53",
    "collapsed": true
   },
   "outputs": [],
   "source": [
    "# read data\n",
    "data = pd.read_csv('../input/pokemon.csv')\n",
    "data= data.set_index(\"#\")\n",
    "data.head()"
   ]
  },
  {
   "cell_type": "code",
   "execution_count": null,
   "metadata": {
    "_cell_guid": "b2dc6f07-d41a-41ce-bc84-d11928a2faaa",
    "_uuid": "2e28d35ad9d91424254e109e6cddbbd39e7d1cdb",
    "collapsed": true
   },
   "outputs": [],
   "source": [
    "# indexing using square brackets\n",
    "data[\"HP\"][1]"
   ]
  },
  {
   "cell_type": "code",
   "execution_count": null,
   "metadata": {
    "_cell_guid": "fc1668e0-fe68-4d92-b80b-4b9424293095",
    "_uuid": "bfd54632669590a571a2eb72b6df59f7faf7f171",
    "collapsed": true
   },
   "outputs": [],
   "source": [
    "# using column attribute and row label\n",
    "data.HP[1]"
   ]
  },
  {
   "cell_type": "code",
   "execution_count": null,
   "metadata": {
    "_cell_guid": "ea69256d-1666-420a-8644-3757eabe6601",
    "_uuid": "a753163d6f74b1211fb7d83ee4848b9533a545f8",
    "collapsed": true
   },
   "outputs": [],
   "source": [
    "# using loc accessor\n",
    "data.loc[1,[\"HP\"]]"
   ]
  },
  {
   "cell_type": "code",
   "execution_count": null,
   "metadata": {
    "_cell_guid": "4b7926fc-3883-4c33-8012-2bd428affb98",
    "_uuid": "62711d7f4d03285b8914ce8d7906cf4b5acd74da",
    "collapsed": true
   },
   "outputs": [],
   "source": [
    "# Selecting only some columns\n",
    "data[[\"HP\",\"Attack\"]]"
   ]
  },
  {
   "cell_type": "markdown",
   "metadata": {
    "_cell_guid": "c61351a6-78cf-4a1c-b5c1-2dedb44cdc32",
    "_uuid": "6cd90e23121d999c48b6602f7066d49697bfa359"
   },
   "source": [
    "### SLICING DATA FRAME\n",
    "* Difference between selecting columns\n",
    "    * Series and data frames\n",
    "* Slicing and indexing series\n",
    "* Reverse slicing \n",
    "* From something to end"
   ]
  },
  {
   "cell_type": "code",
   "execution_count": null,
   "metadata": {
    "_cell_guid": "7f801b29-7033-434a-8508-646b0993f4e9",
    "_uuid": "ca6ddfc20aaba3283022a89566109775d2e0bf5f",
    "collapsed": true
   },
   "outputs": [],
   "source": [
    "# Difference between selecting columns: series and dataframes\n",
    "print(type(data[\"HP\"]))     # series\n",
    "print(type(data[[\"HP\"]]))   # data frames"
   ]
  },
  {
   "cell_type": "code",
   "execution_count": null,
   "metadata": {
    "_cell_guid": "e37a60e3-cf0c-42c5-8fcd-c5f8998139c1",
    "_uuid": "291eb0edec4c438141852b5e07056ce464ec78dd",
    "collapsed": true
   },
   "outputs": [],
   "source": [
    "# Slicing and indexing series\n",
    "data.loc[1:10,\"HP\":\"Defense\"]   # 10 and \"Defense\" are inclusive"
   ]
  },
  {
   "cell_type": "code",
   "execution_count": null,
   "metadata": {
    "_cell_guid": "60f8475b-8e2f-4743-abfb-c9efcb8ad785",
    "_uuid": "9fd49cda8b5371ded105cb9bd4406177218f128a",
    "collapsed": true
   },
   "outputs": [],
   "source": [
    "# Reverse slicing \n",
    "data.loc[10:1:-1,\"HP\":\"Defense\"] "
   ]
  },
  {
   "cell_type": "code",
   "execution_count": null,
   "metadata": {
    "_cell_guid": "af097a7c-fde3-46dd-8563-3c801a32ade0",
    "_uuid": "bb5d774902f7c7670e8d2265b89c6134c6caf51d",
    "collapsed": true
   },
   "outputs": [],
   "source": [
    "# From something to end\n",
    "data.loc[1:10,\"Speed\":] "
   ]
  },
  {
   "cell_type": "markdown",
   "metadata": {
    "_cell_guid": "9246372d-106c-4c0f-b03f-f012d97a0015",
    "_uuid": "be4988429faeac30c260a679bb352ef9048be935"
   },
   "source": [
    "### FILTERING DATA FRAMES\n",
    "Creating boolean series\n",
    "Combining filters\n",
    "Filtering column based others"
   ]
  },
  {
   "cell_type": "code",
   "execution_count": null,
   "metadata": {
    "_cell_guid": "fc541a2a-bc4c-419d-b522-3b02fe872dc9",
    "_uuid": "f891aaba3cd45694784582936cd1136948ea4dff",
    "collapsed": true
   },
   "outputs": [],
   "source": [
    "# Creating boolean series\n",
    "boolean = data.HP > 200\n",
    "data[boolean]"
   ]
  },
  {
   "cell_type": "code",
   "execution_count": null,
   "metadata": {
    "_cell_guid": "29136dd4-a7ad-4629-8a27-f6e4013c50be",
    "_uuid": "170187e4d2a7a7286946094d3fec29bf7995569a",
    "collapsed": true
   },
   "outputs": [],
   "source": [
    "# Combining filters\n",
    "first_filter = data.HP > 150\n",
    "second_filter = data.Speed > 35\n",
    "data[first_filter & second_filter]"
   ]
  },
  {
   "cell_type": "code",
   "execution_count": null,
   "metadata": {
    "_cell_guid": "05b15cd5-0ce7-4f63-8b57-51517d1ce6ee",
    "_uuid": "c896763dc3353f688bc98bb7be0426e6313688c9",
    "collapsed": true
   },
   "outputs": [],
   "source": [
    "# Filtering column based others\n",
    "data.HP[data.Speed<15]"
   ]
  },
  {
   "cell_type": "markdown",
   "metadata": {
    "_cell_guid": "90a26ae7-8d20-449c-afdb-12ac2eb266ee",
    "_uuid": "dc5b6dc4ea66aa03108284983a2139450faf10f7"
   },
   "source": [
    "### TRANSFORMING DATA\n",
    "* Plain python functions\n",
    "* Lambda function: to apply arbitrary python function to every element\n",
    "* Defining column using other columns"
   ]
  },
  {
   "cell_type": "code",
   "execution_count": null,
   "metadata": {
    "_cell_guid": "32ecd8cf-0dce-4632-a7a3-8fcf22d91055",
    "_uuid": "65b27006706fbf23e2da1e111ee6be9370f5bca6",
    "collapsed": true
   },
   "outputs": [],
   "source": [
    "# Plain python functions\n",
    "def div(n):\n",
    "    return n/2\n",
    "data.HP.apply(div)"
   ]
  },
  {
   "cell_type": "code",
   "execution_count": null,
   "metadata": {
    "_cell_guid": "23a6157f-cf67-4d30-9b0e-32d8f1d56c7b",
    "_uuid": "ddd9ccf2f154da142c7b025fbc40942d8174ebd9",
    "collapsed": true
   },
   "outputs": [],
   "source": [
    "# Or we can use lambda function\n",
    "data.HP.apply(lambda n : n/2)"
   ]
  },
  {
   "cell_type": "code",
   "execution_count": null,
   "metadata": {
    "_cell_guid": "81d9e124-4716-4f81-8657-24396d766243",
    "_uuid": "b9f14e5f28ee3436511130607c6ab1896d06b9c0",
    "collapsed": true
   },
   "outputs": [],
   "source": [
    "# Defining column using other columns\n",
    "data[\"total_power\"] = data.Attack + data.Defense\n",
    "data.head()"
   ]
  },
  {
   "cell_type": "markdown",
   "metadata": {
    "_cell_guid": "02c688d9-f7af-4af8-985b-4a9c63247f41",
    "_uuid": "2c15881291bee6bb7fa5cea4fd0ce2c8bbadf0e3"
   },
   "source": [
    "### INDEX OBJECTS AND LABELED DATA\n",
    "index: sequence of label\n"
   ]
  },
  {
   "cell_type": "code",
   "execution_count": null,
   "metadata": {
    "_cell_guid": "53638ea6-e21e-45cc-a488-bd2ed95a65b0",
    "_uuid": "8be52591e5de0ee14041f70a888403dd8aaab9df",
    "collapsed": true
   },
   "outputs": [],
   "source": [
    "# our index name is this:\n",
    "print(data.index.name)\n",
    "# lets change it\n",
    "data.index.name = \"index_name\"\n",
    "data.head()"
   ]
  },
  {
   "cell_type": "code",
   "execution_count": null,
   "metadata": {
    "_cell_guid": "023876a0-324c-4373-bc38-ae7528a091b0",
    "_uuid": "db5f40300314cf1791184b9c3d38b0985d669445",
    "collapsed": true
   },
   "outputs": [],
   "source": [
    "# Overwrite index\n",
    "# if we want to modify index we need to change all of them.\n",
    "data.head()\n",
    "# first copy of our data to data3 then change index \n",
    "data3 = data.copy()\n",
    "# lets make index start from 100. It is not remarkable change but it is just example\n",
    "data3.index = range(100,900,1)\n",
    "data3.head()"
   ]
  },
  {
   "cell_type": "code",
   "execution_count": null,
   "metadata": {
    "_cell_guid": "34cae9f2-89b9-4dfb-b74c-75704e1bc97b",
    "_uuid": "0730b9476a508ced28ca1e22cef43cff54a6373c",
    "collapsed": true
   },
   "outputs": [],
   "source": [
    "# We can make one of the column as index. I actually did it at the beginning of manipulating data frames with pandas section\n",
    "# It was like this\n",
    "# data= data.set_index(\"#\")\n",
    "# also you can use data.index = data[\"#\"]"
   ]
  },
  {
   "cell_type": "markdown",
   "metadata": {
    "_cell_guid": "eb53b529-dd31-4d1c-82ab-77b740bd4994",
    "_uuid": "9df54698ddb8f61532eab4a690c3d3178832d106"
   },
   "source": [
    "### HIERARCHICAL INDEXING\n",
    "* Setting indexing"
   ]
  },
  {
   "cell_type": "code",
   "execution_count": null,
   "metadata": {
    "_cell_guid": "37b4db17-5174-48ca-bec3-1aa332e31a6a",
    "_uuid": "0fa10aab7c4b2c6555340767740314d066db67a6",
    "collapsed": true
   },
   "outputs": [],
   "source": [
    "# lets read data frame one more time to start from beginning\n",
    "data = pd.read_csv('../input/pokemon.csv')\n",
    "data.head()\n",
    "# As you can see there is index. However we want to set one or more column to be index"
   ]
  },
  {
   "cell_type": "code",
   "execution_count": null,
   "metadata": {
    "_cell_guid": "2673b298-881b-4c5b-95fd-f2cd21c63042",
    "_uuid": "6def00d98c1f603f7099fb702711c2c98d362449",
    "collapsed": true
   },
   "outputs": [],
   "source": [
    "# Setting index : type 1 is outer type 2 is inner index\n",
    "data1 = data.set_index([\"Type 1\",\"Type 2\"]) \n",
    "data1.head(100)\n",
    "# data1.loc[\"Fire\",\"Flying\"] # howw to use indexes"
   ]
  },
  {
   "cell_type": "markdown",
   "metadata": {
    "_cell_guid": "a2df33a8-7398-48de-b29a-dcf9aaba390f",
    "_uuid": "bd07bab70f1cfb1207e511385a1df9a677ce7323"
   },
   "source": [
    "### PIVOTING DATA FRAMES\n",
    "* pivoting: reshape tool"
   ]
  },
  {
   "cell_type": "code",
   "execution_count": null,
   "metadata": {
    "_cell_guid": "ac142efd-5d5e-45e3-be59-549ad232b1a7",
    "_uuid": "796bf147649c93831621909e3187b5cc75276583",
    "collapsed": true
   },
   "outputs": [],
   "source": [
    "dic = {\"treatment\":[\"A\",\"A\",\"B\",\"B\"],\"gender\":[\"F\",\"M\",\"F\",\"M\"],\"response\":[10,45,5,9],\"age\":[15,4,72,65]}\n",
    "df = pd.DataFrame(dic)\n",
    "df"
   ]
  },
  {
   "cell_type": "code",
   "execution_count": null,
   "metadata": {
    "_cell_guid": "424deb53-e02f-46a9-9811-57710ba44f58",
    "_uuid": "6ec6f1f2090fb190b6a9adbdcac2369199a2c43c",
    "collapsed": true
   },
   "outputs": [],
   "source": [
    "# pivoting\n",
    "df.pivot(index=\"treatment\",columns = \"gender\",values=\"response\")"
   ]
  },
  {
   "cell_type": "markdown",
   "metadata": {
    "_cell_guid": "c72a36e8-a753-4eee-bb74-164706b0fa9d",
    "_uuid": "8f3a258a8ff9afabd8a19b5554950fae2161bf90"
   },
   "source": [
    "### STACKING and UNSTACKING DATAFRAME\n",
    "* deal with multi label indexes\n",
    "* level: position of unstacked index\n",
    "* swaplevel: change inner and outer level index position"
   ]
  },
  {
   "cell_type": "code",
   "execution_count": null,
   "metadata": {
    "_cell_guid": "fb5178cf-3dd7-4cef-b4ec-cb3f60989c48",
    "_uuid": "8f4846fdd77c9b284337cef1610a3bbd207e9f8a",
    "collapsed": true
   },
   "outputs": [],
   "source": [
    "df1 = df.set_index([\"treatment\",\"gender\"])\n",
    "df1\n",
    "# lets unstack it"
   ]
  },
  {
   "cell_type": "code",
   "execution_count": null,
   "metadata": {
    "_cell_guid": "f538cb10-d07b-4337-a524-0ffa7e620ed9",
    "_uuid": "5d9144f411a83c3ddc142c24f121a30e383865fa",
    "collapsed": true
   },
   "outputs": [],
   "source": [
    "# level determines indexes\n",
    "df1.unstack(level=0)"
   ]
  },
  {
   "cell_type": "code",
   "execution_count": null,
   "metadata": {
    "_cell_guid": "704bd07f-eb5a-4e4d-804b-bf1950318cd8",
    "_uuid": "e6b41dad24fa906a8ce92d84335bb51de99b36c3",
    "collapsed": true
   },
   "outputs": [],
   "source": [
    "df1.unstack(level=1)"
   ]
  },
  {
   "cell_type": "code",
   "execution_count": null,
   "metadata": {
    "_cell_guid": "96b9aa1a-92e6-4ab3-8916-00b6a387257f",
    "_uuid": "30f2c2ca84b34b4ac70123c16b091cbeacae111e",
    "collapsed": true
   },
   "outputs": [],
   "source": [
    "# change inner and outer level index position\n",
    "df2 = df1.swaplevel(0,1)\n",
    "df2"
   ]
  },
  {
   "cell_type": "markdown",
   "metadata": {
    "_cell_guid": "b619b27d-4dc5-4656-b897-c0d2ee1592b9",
    "_uuid": "3c28c7b44b556cdce5f6afd3e77de703d92347eb"
   },
   "source": [
    "### MELTING DATA FRAMES\n",
    "* Reverse of pivoting"
   ]
  },
  {
   "cell_type": "code",
   "execution_count": null,
   "metadata": {
    "_cell_guid": "148e90ee-df31-4bef-85f3-e331229afa05",
    "_uuid": "ac5f6346acaec0a87d8390fe95537123e5da87f5",
    "collapsed": true
   },
   "outputs": [],
   "source": [
    "# df.pivot(index=\"treatment\",columns = \"gender\",values=\"response\")\n",
    "pd.melt(df,id_vars=\"treatment\",value_vars=[\"age\",\"response\"])"
   ]
  },
  {
   "cell_type": "markdown",
   "metadata": {
    "_cell_guid": "80601e16-1e35-486a-bfa7-dde7a3ffda8c",
    "_uuid": "769a4cb71d88171a32a53b7b8425702b44e434ff"
   },
   "source": [
    "### CATEGORICALS AND GROUPBY"
   ]
  },
  {
   "cell_type": "code",
   "execution_count": null,
   "metadata": {
    "_cell_guid": "0e93f845-b991-4001-8eba-354785e27bfe",
    "_uuid": "9758f90e21d48ad1d3b744f44420cf0da3705bde",
    "collapsed": true
   },
   "outputs": [],
   "source": [
    "# We will use df\n",
    "df"
   ]
  },
  {
   "cell_type": "code",
   "execution_count": null,
   "metadata": {
    "_cell_guid": "6e6643f0-620f-43d7-a169-32ba9aa46519",
    "_uuid": "c53e53366eb493a0e84ffd7dc545e765116a1b81",
    "collapsed": true
   },
   "outputs": [],
   "source": [
    "# according to treatment take means of other features\n",
    "df.groupby(\"treatment\").mean()   # mean is aggregation / reduction method\n",
    "# there are other methods like sum, std,max or min"
   ]
  },
  {
   "cell_type": "code",
   "execution_count": null,
   "metadata": {
    "_cell_guid": "af5cf6f7-45fe-4e2c-82b9-51151ea2d946",
    "_uuid": "d1c5820867e194188c5b0e45b9193e6f709278a7",
    "collapsed": true
   },
   "outputs": [],
   "source": [
    "# we can only choose one of the feature\n",
    "df.groupby(\"treatment\").age.mean() "
   ]
  },
  {
   "cell_type": "code",
   "execution_count": null,
   "metadata": {
    "_cell_guid": "3270807c-4a50-409e-8be7-5e72120c5676",
    "_uuid": "d3e7bdaf7ac35c68077e2aab1cf36ba79935f566",
    "collapsed": true
   },
   "outputs": [],
   "source": [
    "# Or we can choose multiple features\n",
    "df.groupby(\"treatment\")[[\"age\",\"response\"]].mean() "
   ]
  },
  {
   "cell_type": "code",
   "execution_count": null,
   "metadata": {
    "_cell_guid": "659bb026-fa52-4d48-9d55-a65053f90854",
    "_uuid": "8634d83d6a2bf666df2c8cc7f4e22103d32acbc9",
    "collapsed": true
   },
   "outputs": [],
   "source": [
    "df.info()\n",
    "# as you can see gender is object\n",
    "# However if we use groupby, we can convert it categorical data. \n",
    "# Because categorical data uses less memory, speed up operations like groupby\n",
    "df[\"gender\"] = df[\"gender\"].astype(\"category\")\n",
    "df[\"treatment\"] = df[\"treatment\"].astype(\"category\")\n",
    "df.info()\n"
   ]
  },
  {
   "cell_type": "markdown",
   "metadata": {
    "_cell_guid": "6d3b07a3-99c3-4920-b304-7b4de5e4ce4d",
    "_uuid": "90978b2f5ea4b8511a3b7b11919b228d68ad9438"
   },
   "source": [
    "# CONCLUSION\n",
    "Thank you for your votes and comments\n",
    "<br> **MACHINE LEARNING ** https://www.kaggle.com/kanncaa1/machine-learning-tutorial-for-beginners/\n",
    "<br>**If you have any question or suggest, I will be happy to hear it.**"
   ]
  },
  {
   "cell_type": "code",
   "execution_count": null,
   "metadata": {
    "_cell_guid": "96114756-3a7c-4df7-a39c-1d93c4705360",
    "_uuid": "14e92a846f585ec0ed816b785e88a191cca86e06",
    "collapsed": true
   },
   "outputs": [],
   "source": []
  }
 ],
 "metadata": {
  "kernelspec": {
   "display_name": "Python 3",
   "language": "python",
   "name": "python3"
  },
  "language_info": {
   "codemirror_mode": {
    "name": "ipython",
    "version": 3
   },
   "file_extension": ".py",
   "mimetype": "text/x-python",
   "name": "python",
   "nbconvert_exporter": "python",
   "pygments_lexer": "ipython3",
   "version": "3.6.4"
  }
 },
 "nbformat": 4,
 "nbformat_minor": 1
}
